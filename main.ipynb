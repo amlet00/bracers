{
 "cells": [
  {
   "cell_type": "code",
   "execution_count": 1,
   "metadata": {},
   "outputs": [],
   "source": [
    "import os\n",
    "from dotenv import load_dotenv\n",
    "\n",
    "load_dotenv()\n",
    "KEY: str = os.getenv('KEY')\n",
    "MAP_KEY: str = os.getenv('MAP_KEY')"
   ]
  },
  {
   "cell_type": "code",
   "execution_count": 2,
   "metadata": {},
   "outputs": [],
   "source": [
    "import openrouteservice as ors\n",
    "import requests"
   ]
  },
  {
   "cell_type": "code",
   "execution_count": 3,
   "metadata": {},
   "outputs": [],
   "source": [
    "client: ors.Client = ors.Client(key=KEY)\n",
    "url: str = 'http://127.0.0.1:5000/find_toponym'"
   ]
  },
  {
   "cell_type": "code",
   "execution_count": 16,
   "metadata": {},
   "outputs": [],
   "source": [
    "user_pos: str = '60.602364, 56.845064'\n",
    "request: str = 'улица 8 Марта, 46, Екатеринбург, Свердловская область'\n",
    "files: dict[str, str] = {\n",
    "    'coordinates': user_pos,\n",
    "    'request':  request\n",
    "}"
   ]
  },
  {
   "cell_type": "code",
   "execution_count": 17,
   "metadata": {},
   "outputs": [
    {
     "data": {
      "text/plain": [
       "[60.602364, 56.845064]"
      ]
     },
     "execution_count": 17,
     "metadata": {},
     "output_type": "execute_result"
    }
   ],
   "source": [
    "start_pos: list[float] = list(map(float, user_pos.split(', ')))\n",
    "start_pos"
   ]
  },
  {
   "cell_type": "code",
   "execution_count": 18,
   "metadata": {},
   "outputs": [
    {
     "data": {
      "text/plain": [
       "[60.598948, 56.829103]"
      ]
     },
     "execution_count": 18,
     "metadata": {},
     "output_type": "execute_result"
    }
   ],
   "source": [
    "end_pos: list[float] = requests.post(url, json=files).json()[\"data\"][\"request\"]\n",
    "end_pos"
   ]
  },
  {
   "cell_type": "code",
   "execution_count": 19,
   "metadata": {},
   "outputs": [],
   "source": [
    "coordinates: list[list[float]] = [start_pos, end_pos]\n",
    "\n",
    "route: dict = client.directions(\n",
    "    coordinates=coordinates,\n",
    "    profile='foot-walking',\n",
    "    format='geojson',\n",
    "    options={\"avoid_features\": [\"steps\"]},\n",
    "    validate=False,\n",
    ")"
   ]
  },
  {
   "cell_type": "code",
   "execution_count": 20,
   "metadata": {},
   "outputs": [],
   "source": [
    "map_params: dict[str, str] = {\n",
    "                \"l\": \"map\",\n",
    "                \"pl\": ','.join([f\"{coord[0]},{coord[1]}\" for coord in route['features'][0]['geometry']['coordinates']])\n",
    "            }\n",
    "\n",
    "map_api_server: str = \"http://static-maps.yandex.ru/1.x/\"\n",
    "response: requests.Response = requests.get(map_api_server, params=map_params)\n",
    "map_file: str = f\"map.png\"\n",
    "\n",
    "with open(map_file, \"wb\") as file:\n",
    "    file.write(response.content)"
   ]
  },
  {
   "cell_type": "code",
   "execution_count": 22,
   "metadata": {},
   "outputs": [
    {
     "data": {
      "text/plain": [
       "[[60.602295, 56.84505],\n",
       " [60.602202, 56.845183],\n",
       " [60.60227, 56.845204],\n",
       " [60.602359, 56.845229],\n",
       " [60.602533, 56.845246],\n",
       " [60.602604, 56.84519],\n",
       " [60.602979, 56.845021],\n",
       " [60.603251, 56.844883],\n",
       " [60.603526, 56.844726],\n",
       " [60.603976, 56.844455],\n",
       " [60.60414, 56.844308],\n",
       " [60.604068, 56.844277],\n",
       " [60.604027, 56.844261],\n",
       " [60.604112, 56.844123],\n",
       " [60.604164, 56.843964],\n",
       " [60.604176, 56.843927],\n",
       " [60.604516, 56.843055],\n",
       " [60.605004, 56.841898],\n",
       " [60.604995, 56.841799],\n",
       " [60.604798, 56.841479],\n",
       " [60.604639, 56.841244],\n",
       " [60.604653, 56.841184],\n",
       " [60.604644, 56.841114],\n",
       " [60.60473, 56.840822],\n",
       " [60.604788, 56.840631],\n",
       " [60.605272, 56.839057],\n",
       " [60.605353, 56.839063],\n",
       " [60.605385, 56.838965],\n",
       " [60.60542, 56.838869],\n",
       " [60.605429, 56.838842],\n",
       " [60.605276, 56.838827],\n",
       " [60.605111, 56.838812],\n",
       " [60.604595, 56.838746],\n",
       " [60.603884, 56.838667],\n",
       " [60.603618, 56.838638],\n",
       " [60.603131, 56.838588],\n",
       " [60.602906, 56.838561],\n",
       " [60.601738, 56.838441],\n",
       " [60.601533, 56.83842],\n",
       " [60.601427, 56.838407],\n",
       " [60.601258, 56.838388],\n",
       " [60.59934, 56.838148],\n",
       " [60.599058, 56.838117],\n",
       " [60.59918, 56.837766],\n",
       " [60.599229, 56.837659],\n",
       " [60.599225, 56.837639],\n",
       " [60.599301, 56.837377],\n",
       " [60.599442, 56.836962],\n",
       " [60.599454, 56.836928],\n",
       " [60.599639, 56.836357],\n",
       " [60.599664, 56.836262],\n",
       " [60.599794, 56.835875],\n",
       " [60.599852, 56.835707],\n",
       " [60.599889, 56.835601],\n",
       " [60.599956, 56.835408],\n",
       " [60.599965, 56.835382],\n",
       " [60.600055, 56.835115],\n",
       " [60.600158, 56.834764],\n",
       " [60.600274, 56.834442],\n",
       " [60.600308, 56.834327],\n",
       " [60.600396, 56.83432],\n",
       " [60.600475, 56.83408],\n",
       " [60.600302, 56.834018],\n",
       " [60.600253, 56.833728],\n",
       " [60.600205, 56.833442],\n",
       " [60.600253, 56.833301],\n",
       " [60.600338, 56.833099],\n",
       " [60.600402, 56.832927],\n",
       " [60.600534, 56.832534],\n",
       " [60.600613, 56.83231],\n",
       " [60.600615, 56.832303],\n",
       " [60.600721, 56.832013],\n",
       " [60.600847, 56.831665],\n",
       " [60.601009, 56.831163],\n",
       " [60.601097, 56.83091],\n",
       " [60.60078, 56.83088],\n",
       " [60.600709, 56.830861],\n",
       " [60.600722, 56.830825],\n",
       " [60.600768, 56.830675],\n",
       " [60.600783, 56.830627],\n",
       " [60.600397, 56.830594],\n",
       " [60.599929, 56.830554],\n",
       " [60.599977, 56.830402],\n",
       " [60.600191, 56.829735],\n",
       " [60.600146, 56.829674],\n",
       " [60.599729, 56.82963]]"
      ]
     },
     "execution_count": 22,
     "metadata": {},
     "output_type": "execute_result"
    }
   ],
   "source": [
    "route['features'][0]['geometry']['coordinates']"
   ]
  },
  {
   "cell_type": "code",
   "execution_count": null,
   "metadata": {},
   "outputs": [],
   "source": []
  }
 ],
 "metadata": {
  "kernelspec": {
   "display_name": ".venv",
   "language": "python",
   "name": "python3"
  },
  "language_info": {
   "codemirror_mode": {
    "name": "ipython",
    "version": 3
   },
   "file_extension": ".py",
   "mimetype": "text/x-python",
   "name": "python",
   "nbconvert_exporter": "python",
   "pygments_lexer": "ipython3",
   "version": "3.12.3"
  }
 },
 "nbformat": 4,
 "nbformat_minor": 2
}
